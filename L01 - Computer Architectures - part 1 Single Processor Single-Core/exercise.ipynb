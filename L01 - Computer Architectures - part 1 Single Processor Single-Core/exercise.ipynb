{
 "cells": [
  {
   "cell_type": "markdown",
   "metadata": {},
   "source": [
    "# Exercise Computer Architectures - part 1 Single Processor Single-Core\n",
    "\n",
    "## Exercise 1\n",
    "\n",
    "1. Create a vector X of N random numbers, where N is in the order of 1e6 to 1e8 (depending on the speed of your computer).\n",
    "2. Create the following implementations to calculate the difference between the consecutive elements in X: (resulting in a vector Y with N-1 elements)\n",
    "    * Use a regular for loop and calculate the difference as Y(i) = X(i+1) - X(i), where X and Y are implemented as python lists.\n",
    "    * Extend the above program with intermediate variables (e.g. x_next and x_now) to store the X(i+1) value for the next iteration.\n",
    "    * Same as 1, but store X and Y as numpy arrays.\n",
    "    * Same as 2, but store X and Y as numpy arrays. \n",
    "    * Use a diff-function to compute the result thereby exploiting vector computation (wide registers) - in Python this function is \"numpy.diff\". Remember to include \"import numpy\".\n",
    "3. Measure the execution time of all implementations and explain the difference in performance."
   ]
  },
  {
   "cell_type": "code",
   "execution_count": 1,
   "metadata": {},
   "outputs": [],
   "source": [
    "import random\n",
    "\n",
    "N = 10000000\n",
    "\n",
    "X = [random.randint(0, 255) for i in range(N)]"
   ]
  },
  {
   "cell_type": "code",
   "execution_count": 2,
   "metadata": {},
   "outputs": [
    {
     "name": "stdout",
     "output_type": "stream",
     "text": [
      "Time to process: 2.456067100000002\n"
     ]
    }
   ],
   "source": [
    "from timeit import default_timer as timer\n",
    "\n",
    "Y = []\n",
    "\n",
    "start = timer()\n",
    "for i in range(N-1):\n",
    "    Y.append(X[i+1] - X[i])\n",
    "end = timer()\n",
    "\n",
    "\n",
    "print(\"Time to process: \" + str(end - start))"
   ]
  },
  {
   "cell_type": "code",
   "execution_count": 3,
   "metadata": {},
   "outputs": [
    {
     "name": "stdout",
     "output_type": "stream",
     "text": [
      "Time to process: 2.5667379999999973\n"
     ]
    }
   ],
   "source": [
    "from timeit import default_timer as timer\n",
    "\n",
    "Y = []\n",
    "\n",
    "x_now = X[0]\n",
    "\n",
    "start = timer()\n",
    "for i in range(N-1):\n",
    "    x_next = X[i+1]\n",
    "    Y.append(x_next - x_now)\n",
    "    x_now = x_next\n",
    "end = timer()\n",
    "\n",
    "print(\"Time to process: \" + str(end - start))"
   ]
  },
  {
   "cell_type": "code",
   "execution_count": 4,
   "metadata": {},
   "outputs": [
    {
     "name": "stdout",
     "output_type": "stream",
     "text": [
      "Time to process: 4.7431464000000005\n"
     ]
    }
   ],
   "source": [
    "import numpy as np\n",
    "from timeit import default_timer as timer\n",
    "\n",
    "\n",
    "np_X = np.array(X)\n",
    "np_Y = np.zeros(N-1)\n",
    "\n",
    "start = timer()\n",
    "for i in range(N-1):\n",
    "    np_Y[i] = np_X[i+1] - np_X[i]\n",
    "end = timer()\n",
    "\n",
    "print(\"Time to process: \" + str(end - start))"
   ]
  },
  {
   "cell_type": "code",
   "execution_count": 5,
   "metadata": {},
   "outputs": [
    {
     "name": "stdout",
     "output_type": "stream",
     "text": [
      "Time to process: 6.652254799999994\n"
     ]
    }
   ],
   "source": [
    "import numpy as np\n",
    "from timeit import default_timer as timer\n",
    "\n",
    "\n",
    "np_X = np.array(X)\n",
    "np_Y = np.zeros(N-1)\n",
    "\n",
    "x_now = X[0]\n",
    "\n",
    "start = timer()\n",
    "for i in range(N-1):\n",
    "    x_next = np_X[i+1]\n",
    "    np_Y[i] = np_X[i+1] - np_X[i]\n",
    "    x_now = x_next\n",
    "end = timer()\n",
    "\n",
    "print(\"Time to process: \" + str(end - start))"
   ]
  },
  {
   "cell_type": "code",
   "execution_count": 6,
   "metadata": {},
   "outputs": [
    {
     "name": "stdout",
     "output_type": "stream",
     "text": [
      "Time to process: 0.01756430000000364\n"
     ]
    }
   ],
   "source": [
    "import numpy as np\n",
    "from timeit import default_timer as timer\n",
    "\n",
    "\n",
    "np_X = np.array(X)\n",
    "np_Y = np.zeros(N-1)\n",
    "\n",
    "start = timer()\n",
    "np_Y = np.diff(np_X)\n",
    "end = timer()\n",
    "\n",
    "print(\"Time to process: \" + str(end - start))"
   ]
  },
  {
   "cell_type": "markdown",
   "metadata": {},
   "source": [
    "## Exercise 2\n",
    "\n",
    "### Part A\n",
    "\n",
    "1. We have 6 elements stored contiguous in memory in the order: 1, 2, 3, 4, 5, 6.  In the following, we read this contiguous data into arrays in different ways.  What do the arrays look like if we read the data as:\n",
    "    * a 2x3 matrix treating data as column-major (Fortran style) as F2x3?\n",
    "    * a 3x2 matrix treating data as column-major (Fortran style) as F3x2?\n",
    "    * a 2x3 matrix treating data as row-major (C style) as C2x3?\n",
    "    * a 3x2 matrix treating data as row-major (C style) as C3x2?\n",
    "2. Explain the relations between the different matrices and how this may be utilized."
   ]
  },
  {
   "cell_type": "markdown",
   "metadata": {},
   "source": [
    "### Part B\n",
    "\n",
    "1. Generate a random vector X with dimension N x M and another vector Y with opposite dimensions M x N, where N >> M, e.g. N = 100.000, M = 100. \n",
    "2. Make a program with two functions: one that loops over each row and calculates the row-sum (using numpy.sum()) and one that does the same, but loops over each column.\n",
    "3. Measure execution speed for each orientation for each for the two vectors.\n",
    "4. Do these results match your expectation given the memory layout difference between Fortran (Matlab) and C (Python)?\n",
    "    * In Python: if this was implemented with a 2D list, you will probably not see a big difference. Why not?\n",
    "5. Extra info: In Python Numpy you can specify the memory layout for an array explicitly using the keyword order=‘C’ or order=‘F’."
   ]
  },
  {
   "cell_type": "code",
   "execution_count": 4,
   "metadata": {},
   "outputs": [],
   "source": [
    "import random\n",
    "import numpy as np\n",
    "from timeit import default_timer as timer"
   ]
  },
  {
   "cell_type": "code",
   "execution_count": 19,
   "metadata": {},
   "outputs": [],
   "source": [
    "N = 10000\n",
    "M = 10000\n",
    "\n",
    "X = [[random.randint(0, 255) for i in range(M)] for j in range(N)]"
   ]
  },
  {
   "cell_type": "code",
   "execution_count": 23,
   "metadata": {},
   "outputs": [],
   "source": [
    "X_F = np.array(X, order='F')\n",
    "X_C = np.array(X, order='C')"
   ]
  },
  {
   "cell_type": "code",
   "execution_count": 24,
   "metadata": {},
   "outputs": [
    {
     "name": "stdout",
     "output_type": "stream",
     "text": [
      "0.12692220000008092\n"
     ]
    }
   ],
   "source": [
    "start = timer()\n",
    "for n in range(N):\n",
    "    np.sum(X_C[n,:])\n",
    "end = timer()\n",
    "\n",
    "print(end-start)"
   ]
  },
  {
   "cell_type": "code",
   "execution_count": 25,
   "metadata": {},
   "outputs": [
    {
     "name": "stdout",
     "output_type": "stream",
     "text": [
      "0.1332896000000119\n"
     ]
    }
   ],
   "source": [
    "start = timer()\n",
    "for m in range(M):\n",
    "    np.sum(X_F[:,m])\n",
    "end = timer()\n",
    "\n",
    "print(end-start)"
   ]
  }
 ],
 "metadata": {
  "interpreter": {
   "hash": "c1f676ee48648e9cd57bb4097f2a047d3c51bdc89d984e37742f155dda52d53a"
  },
  "kernelspec": {
   "display_name": "Python 3.9.7 ('NSC')",
   "language": "python",
   "name": "python3"
  },
  "language_info": {
   "codemirror_mode": {
    "name": "ipython",
    "version": 3
   },
   "file_extension": ".py",
   "mimetype": "text/x-python",
   "name": "python",
   "nbconvert_exporter": "python",
   "pygments_lexer": "ipython3",
   "version": "3.9.7"
  },
  "orig_nbformat": 4
 },
 "nbformat": 4,
 "nbformat_minor": 2
}
