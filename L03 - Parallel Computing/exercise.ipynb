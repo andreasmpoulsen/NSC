{
 "cells": [
  {
   "cell_type": "markdown",
   "metadata": {},
   "source": [
    "# Exercises Lecture 3 Parallel Computing\n",
    "\n",
    "The exercises use Python multiprocessing. It is important to understand the concepts of parallel computing and its implementation.\n",
    "\n",
    "## Exercise 3.1 \"Pi calculation using Monte Carlo method\"\n",
    "\n",
    "* Implement the calculation of the irrational number Pi using the Monte Carlo method"
   ]
  },
  {
   "cell_type": "code",
   "execution_count": null,
   "metadata": {},
   "outputs": [],
   "source": [
    "import random\n",
    "\n",
    "def pi_est(I):\n",
    "    inside = 0\n",
    "    total = 0\n",
    "\n",
    "    for i in range(I**2):\n",
    "        rand_x = random.uniform(-1,1)\n",
    "        rand_y = random.uniform(-1,1)\n",
    "\n",
    "        origin_dist = rand_x**2 + rand_y**2\n",
    "\n",
    "        if origin_dist <= 1:\n",
    "            inside += 1\n",
    "        total += 1\n",
    "\n",
    "    return 4 * inside/total\n",
    "\n",
    "print(pi_est(100))"
   ]
  },
  {
   "cell_type": "markdown",
   "metadata": {},
   "source": [
    "* Use Python multiprocessing to gain access to multiple processes\n",
    "* Show the result for increasing number of random realizations\n",
    "* Measure the execution time and observe the speedup when increasing the number of processors\n",
    "\n",
    "\n",
    "Solution [here](pi_est.py)"
   ]
  }
 ],
 "metadata": {
  "interpreter": {
   "hash": "c1f676ee48648e9cd57bb4097f2a047d3c51bdc89d984e37742f155dda52d53a"
  },
  "kernelspec": {
   "display_name": "Python 3.9.7 ('NSC')",
   "language": "python",
   "name": "python3"
  },
  "language_info": {
   "codemirror_mode": {
    "name": "ipython",
    "version": 3
   },
   "file_extension": ".py",
   "mimetype": "text/x-python",
   "name": "python",
   "nbconvert_exporter": "python",
   "pygments_lexer": "ipython3",
   "version": "3.9.7"
  },
  "orig_nbformat": 4
 },
 "nbformat": 4,
 "nbformat_minor": 2
}
