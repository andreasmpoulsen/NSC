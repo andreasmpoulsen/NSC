{
 "cells": [
  {
   "cell_type": "markdown",
   "metadata": {},
   "source": [
    "# Exercises Lecture 4 Parallel Computing part 2\n",
    "\n",
    "## Exercise 4.1: \"Chunk size\"\n",
    "\n",
    "In the following, we continue working with the script for calculation Pi from lecture 3\n",
    "\n",
    "* Extend/revise the [monte_carlo_pi_2.py](monte_carlo_pi_2.py) script to measure the execution time for different choices of chunk size (L). Let $L = 10,100, ..., 1e6$. Keep the total number of trials $N*L = 1e7$, meaning that $N = 1e7/L$.\n",
    "\n",
    "Solution [here](monte_carlo_pi_2.py)\n",
    "\n",
    "* When using a single core P=1, which is the best chunk size to use? Hint: Plot using plt.semilogx(.)\n",
    "\n",
    "With P = 1, L = 1e5 gives an execution time of 15.8s, which is the best time.\n",
    "\n",
    "* When using multi-core, (e.g., P=8, if your machine has 8 cores), which is the best chunk size to use?\n",
    "\n",
    "With P = 12, L = 1e4 gives the best execution time, being 8.06s\n",
    "\n",
    "* Why is there a difference between these? Hint: try to imagine how the processes are allocated to the cores.\n",
    "\n",
    "## Exercise 4.2: \"Map filter reduce\"\n",
    "The purpose of this exercise is to become familiar with the map-filter-reduce programming method.\n",
    "\n",
    "### Single-core version:\n",
    "\n",
    "* As input data, we create N random integers on the interval 10-100. (Try first with low values of N)\n",
    "* Use the map, filter, reduce programming style to first subtract 7 from all values and then calculate the sum of all odd numbers. Use the python commands map, filter, and reduce, to achieve this, as introduced in the youtube video above."
   ]
  },
  {
   "cell_type": "code",
   "execution_count": 8,
   "metadata": {},
   "outputs": [
    {
     "name": "stdout",
     "output_type": "stream",
     "text": [
      "[58, 43, 22, 9, 86, 57, 87, 54, 67, 31, 7, 65, 36, 81, 39, 70, 3, 45, 65, 23]\n",
      "[43, 9, 57, 87, 67, 31, 7, 65, 81, 39, 3, 45, 65, 23]\n",
      "622\n"
     ]
    }
   ],
   "source": [
    "import random\n",
    "from functools import reduce\n",
    "\n",
    "N = 20\n",
    "\n",
    "integers = [random.randint(10, 100) for i in range(N)]\n",
    "\n",
    "mapped = list(map(lambda i: i-7, integers))\n",
    "odd = list(filter(lambda i: i % 2, mapped))\n",
    "sum = reduce((lambda i, j: i + j), odd)\n",
    "\n",
    "print(mapped)\n",
    "print(odd)\n",
    "print(sum)"
   ]
  },
  {
   "cell_type": "markdown",
   "metadata": {},
   "source": [
    "### Multiprocessing version:\n",
    "\n",
    "* Try to extend the program to use pool.map to achieve parallel execution. Of course, the problem is too small to see a benefit, so you can increase the size of the interval and introduce a more complicated calculation in the map-step.\n",
    "\n",
    "Solution [here](mfr_multiprocess.py)"
   ]
  }
 ],
 "metadata": {
  "interpreter": {
   "hash": "c1f676ee48648e9cd57bb4097f2a047d3c51bdc89d984e37742f155dda52d53a"
  },
  "kernelspec": {
   "display_name": "Python 3.9.7 ('NSC')",
   "language": "python",
   "name": "python3"
  },
  "language_info": {
   "codemirror_mode": {
    "name": "ipython",
    "version": 3
   },
   "file_extension": ".py",
   "mimetype": "text/x-python",
   "name": "python",
   "nbconvert_exporter": "python",
   "pygments_lexer": "ipython3",
   "version": "3.9.7"
  },
  "orig_nbformat": 4
 },
 "nbformat": 4,
 "nbformat_minor": 2
}
